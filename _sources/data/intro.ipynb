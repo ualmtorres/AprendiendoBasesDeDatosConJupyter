{
 "cells": [
  {
   "cell_type": "markdown",
   "metadata": {
    "vscode": {
     "languageId": "markdown"
    }
   },
   "source": [
    "# Introducción"
   ]
  },
  {
   "cell_type": "markdown",
   "metadata": {
    "vscode": {
     "languageId": "markdown"
    }
   },
   "source": [
    "Este libro Jupyter está diseñado para enseñar los conceptos básicos de bases de datos utilizando ejemplos prácticos y herramientas interactivas. A lo largo de este libro, exploraremos cómo trabajar con bases de datos relacionales, realizar consultas SQL y analizar datos de manera eficiente. \n",
    "\n",
    "El contenido se desarrolla mediante notebooks prácticos proporcionando una combinación de teoría y práctica para facilitar el aprendizaje. ¡Comencemos a explorar el mundo de las bases de datos!"
   ]
  },
  {
   "cell_type": "markdown",
   "metadata": {},
   "source": [
    "## Licencia\n",
    "\n",
    "Licencia CC BY-NC-ND 4.0\n",
    "\n",
    "Copyright (c) 2025 [Manuel Torres - Departamento de Informática - Universidad de Almería]\n",
    "\n",
    "Este proyecto está licenciado bajo la Licencia CC BY-NC-ND 4.0. Esto significa que puedes compartir el proyecto siempre que cites al autor, no lo uses para fines comerciales y no realices obras derivadas."
   ]
  }
 ],
 "metadata": {
  "kernelspec": {
   "display_name": "Python 3 (ipykernel)",
   "language": "python",
   "name": "python3"
  },
  "language_info": {
   "codemirror_mode": {
    "name": "ipython",
    "version": 3
   },
   "file_extension": ".py",
   "mimetype": "text/x-python",
   "name": "python",
   "nbconvert_exporter": "python",
   "pygments_lexer": "ipython3",
   "version": "3.12.9"
  }
 },
 "nbformat": 4,
 "nbformat_minor": 2
}
