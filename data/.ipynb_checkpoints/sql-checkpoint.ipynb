{
 "cells": [
  {
   "cell_type": "markdown",
   "metadata": {},
   "source": [
    "# Bases de datos - SQL\n",
    "Gestión Empresarial con Big Data - Nivel I. Universidad de Almería"
   ]
  },
  {
   "cell_type": "markdown",
   "metadata": {},
   "source": [
    "## Introducción\n",
    "* Del inglés _Structured Query Language_.\n",
    "* Lenguaje más extendido para consultar y manipular Bases de datos relacionales.\n",
    "* SQL es un lenguaje estándar. No obstante, existen gran cantidad de _dialectos_."
   ]
  },
  {
   "cell_type": "markdown",
   "metadata": {},
   "source": [
    "## Usos\n",
    "* Consulta de datos.\n",
    "* Manipulación de datos (Inserción, modificación, eliminación).\n",
    "* Definición de datos (Tablas, Índices, Vistas, ...).\n",
    "* Configuración de seguridad (Usuarios, permisos, ...)."
   ]
  },
  {
   "cell_type": "markdown",
   "metadata": {},
   "source": [
    "## Sintaxis básica"
   ]
  },
  {
   "cell_type": "code",
   "execution_count": null,
   "metadata": {
    "vscode": {
     "languageId": "sql"
    }
   },
   "outputs": [],
   "source": [
    "%%sql\n",
    "SELECT COLUMNAS_SEPARADAS_POR_COMAS\n",
    "FROM TABLA\n",
    "WHERE CONDICION;"
   ]
  },
  {
   "cell_type": "markdown",
   "metadata": {},
   "source": [
    "## Operaciones de consulta sencillas para el filtrado de filas y columnas"
   ]
  },
  {
   "cell_type": "markdown",
   "metadata": {},
   "source": [
    "### Mostrar todos los empleados"
   ]
  },
  {
   "cell_type": "code",
   "execution_count": null,
   "metadata": {
    "vscode": {
     "languageId": "sql"
    }
   },
   "outputs": [],
   "source": [
    "%%sql\n",
    "SELECT * \n",
    "FROM Empleados;"
   ]
  },
  {
   "cell_type": "markdown",
   "metadata": {},
   "source": [
    "### Mostrar las filas de todos los empleados con empleo _Vendedor_"
   ]
  },
  {
   "cell_type": "code",
   "execution_count": null,
   "metadata": {
    "vscode": {
     "languageId": "sql"
    }
   },
   "outputs": [],
   "source": [
    "%%sql\n",
    "SELECT * \n",
    "FROM Empleados\n",
    "WHERE empleo = 'Vendedor';"
   ]
  }
 ],
 "metadata": {
  "language_info": {
   "name": "python"
  }
 },
 "nbformat": 4,
 "nbformat_minor": 2
}
